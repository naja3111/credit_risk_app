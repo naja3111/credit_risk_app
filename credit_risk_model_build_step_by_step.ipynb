{
 "cells": [
  {
   "cell_type": "markdown",
   "metadata": {},
   "source": [
    "### Import Libraries"
   ]
  },
  {
   "cell_type": "code",
   "execution_count": 14,
   "metadata": {},
   "outputs": [],
   "source": [
    "#### We will try an XGBoost Model below for given challenge, so install XGBOOST model \n",
    "# (In Anaconda we can either use pip or conda)\n",
    "# For conda reference- https://stackoverflow.com/questions/35139108/how-to-install-xgboost-in-anaconda-python-windows-platform\n",
    "# !pip install xgboost"
   ]
  },
  {
   "cell_type": "code",
   "execution_count": 14,
   "metadata": {},
   "outputs": [],
   "source": [
    "# Import Libraries\n",
    "import numpy as np\n",
    "import pandas as pd\n",
    "# Model libraries\n",
    "from sklearn.ensemble import RandomForestClassifier\n",
    "from xgboost import XGBClassifier # Use XGBClassifier as we have binary classification problem\n",
    "from sklearn.svm import SVC # Supprot Vector Classifier Model\n",
    "from sklearn.neighbors import KNeighborsClassifier\n",
    "\n",
    "\n",
    "# Preprocessing and Pipeline libraries\n",
    "import sklearn\n",
    "from sklearn.model_selection import train_test_split, GridSearchCV\n",
    "from sklearn.compose import ColumnTransformer\n",
    "from sklearn.impute import SimpleImputer\n",
    "from sklearn.pipeline import Pipeline, make_pipeline\n",
    "from sklearn.preprocessing import OneHotEncoder\n",
    "import pickle\n",
    "\n",
    "## model accuracy, score and cross validation libraries\n",
    "from sklearn.metrics import accuracy_score\n",
    "from sklearn.model_selection import KFold\n",
    "from sklearn.model_selection import cross_val_score\n",
    "\n",
    "import time \n",
    "\n",
    "## Hide warnings in Jupyert Notebook\n",
    "import warnings\n",
    "warnings.filterwarnings('ignore')"
   ]
  },
  {
   "cell_type": "markdown",
   "metadata": {},
   "source": [
    "### Take a different approach - Fun with data wrangling\n",
    "\n",
    "*Note- Since there hand selected features (10) are available, skipping feature engineering part*\n",
    "\n",
    "* Combine and shuffle training and test data\n",
    "* create a 80-20 train and test split\n",
    "* Run a cross validation on the training set - This will help to avoid overfitting and underfitting\n",
    "* Build a model using XGBoost and oher models to test for credit risk prediction\n",
    "* Deploy the model"
   ]
  },
  {
   "cell_type": "markdown",
   "metadata": {},
   "source": [
    "### Import Training Data"
   ]
  },
  {
   "cell_type": "code",
   "execution_count": 2,
   "metadata": {},
   "outputs": [
    {
     "name": "stdout",
     "output_type": "stream",
     "text": [
      "\n",
      "Loading training data...\n",
      "\n",
      "There are  111068 records in training data\n"
     ]
    }
   ],
   "source": [
    "### Make sure you have are \"MLE_Challenge_Project\" folder. This allows freedom to change directories and \n",
    "### later save files\n",
    "training_data_file = r\"mle-project-challenge\\data\\peerLoanTraining.csv\"\n",
    "\n",
    "print(\"\\nLoading training data...\")\n",
    "# load training data\n",
    "training_data = pd.read_csv(training_data_file, engine='python', header=0)\n",
    "print(\"\\nThere are \", len(training_data), \"records in training data\")\n",
    "\n",
    "# Separate out X and y\n",
    "X_train = training_data.loc[:, training_data.columns != 'is_late']\n",
    "# y_train = training_data.loc[:,training_data.columns == 'is_late']\n",
    "y_train = training_data.iloc[:,-1:]"
   ]
  },
  {
   "cell_type": "markdown",
   "metadata": {},
   "source": [
    "##### Quick Data Exploration"
   ]
  },
  {
   "cell_type": "code",
   "execution_count": 3,
   "metadata": {},
   "outputs": [
    {
     "name": "stdout",
     "output_type": "stream",
     "text": [
      "There are  10 columns in x_train data\n",
      "There are  1 columns in y_train data\n"
     ]
    },
    {
     "data": {
      "text/html": [
       "<div>\n",
       "<style scoped>\n",
       "    .dataframe tbody tr th:only-of-type {\n",
       "        vertical-align: middle;\n",
       "    }\n",
       "\n",
       "    .dataframe tbody tr th {\n",
       "        vertical-align: top;\n",
       "    }\n",
       "\n",
       "    .dataframe thead th {\n",
       "        text-align: right;\n",
       "    }\n",
       "</style>\n",
       "<table border=\"1\" class=\"dataframe\">\n",
       "  <thead>\n",
       "    <tr style=\"text-align: right;\">\n",
       "      <th></th>\n",
       "      <th>loan_amnt</th>\n",
       "      <th>int_rate</th>\n",
       "      <th>purpose</th>\n",
       "      <th>grade</th>\n",
       "      <th>annual_inc</th>\n",
       "      <th>revol_util</th>\n",
       "      <th>emp_length</th>\n",
       "      <th>dti</th>\n",
       "      <th>delinq_2yrs</th>\n",
       "      <th>home_ownership</th>\n",
       "      <th>is_late</th>\n",
       "    </tr>\n",
       "  </thead>\n",
       "  <tbody>\n",
       "    <tr>\n",
       "      <td>0</td>\n",
       "      <td>12000</td>\n",
       "      <td>0.2039</td>\n",
       "      <td>credit_card</td>\n",
       "      <td>D</td>\n",
       "      <td>42000.0</td>\n",
       "      <td>0.647</td>\n",
       "      <td>10+ years</td>\n",
       "      <td>14.46</td>\n",
       "      <td>0</td>\n",
       "      <td>RENT</td>\n",
       "      <td>0</td>\n",
       "    </tr>\n",
       "    <tr>\n",
       "      <td>1</td>\n",
       "      <td>29150</td>\n",
       "      <td>0.2039</td>\n",
       "      <td>home_improvement</td>\n",
       "      <td>D</td>\n",
       "      <td>51000.0</td>\n",
       "      <td>0.404</td>\n",
       "      <td>10+ years</td>\n",
       "      <td>20.82</td>\n",
       "      <td>0</td>\n",
       "      <td>MORTGAGE</td>\n",
       "      <td>0</td>\n",
       "    </tr>\n",
       "    <tr>\n",
       "      <td>2</td>\n",
       "      <td>8000</td>\n",
       "      <td>0.1306</td>\n",
       "      <td>other</td>\n",
       "      <td>C</td>\n",
       "      <td>73000.0</td>\n",
       "      <td>0.560</td>\n",
       "      <td>10+ years</td>\n",
       "      <td>33.27</td>\n",
       "      <td>0</td>\n",
       "      <td>MORTGAGE</td>\n",
       "      <td>0</td>\n",
       "    </tr>\n",
       "    <tr>\n",
       "      <td>3</td>\n",
       "      <td>21000</td>\n",
       "      <td>0.0746</td>\n",
       "      <td>credit_card</td>\n",
       "      <td>A</td>\n",
       "      <td>60000.0</td>\n",
       "      <td>0.395</td>\n",
       "      <td>NaN</td>\n",
       "      <td>22.42</td>\n",
       "      <td>0</td>\n",
       "      <td>OWN</td>\n",
       "      <td>0</td>\n",
       "    </tr>\n",
       "    <tr>\n",
       "      <td>4</td>\n",
       "      <td>13000</td>\n",
       "      <td>0.1747</td>\n",
       "      <td>debt_consolidation</td>\n",
       "      <td>D</td>\n",
       "      <td>27500.0</td>\n",
       "      <td>0.185</td>\n",
       "      <td>4 years</td>\n",
       "      <td>26.45</td>\n",
       "      <td>0</td>\n",
       "      <td>RENT</td>\n",
       "      <td>0</td>\n",
       "    </tr>\n",
       "  </tbody>\n",
       "</table>\n",
       "</div>"
      ],
      "text/plain": [
       "   loan_amnt  int_rate             purpose grade  annual_inc  revol_util  \\\n",
       "0      12000    0.2039         credit_card     D     42000.0       0.647   \n",
       "1      29150    0.2039    home_improvement     D     51000.0       0.404   \n",
       "2       8000    0.1306               other     C     73000.0       0.560   \n",
       "3      21000    0.0746         credit_card     A     60000.0       0.395   \n",
       "4      13000    0.1747  debt_consolidation     D     27500.0       0.185   \n",
       "\n",
       "  emp_length    dti  delinq_2yrs home_ownership  is_late  \n",
       "0  10+ years  14.46            0           RENT        0  \n",
       "1  10+ years  20.82            0       MORTGAGE        0  \n",
       "2  10+ years  33.27            0       MORTGAGE        0  \n",
       "3        NaN  22.42            0            OWN        0  \n",
       "4    4 years  26.45            0           RENT        0  "
      ]
     },
     "execution_count": 3,
     "metadata": {},
     "output_type": "execute_result"
    }
   ],
   "source": [
    "print(\"There are \",len(X_train.columns), \"columns in x_train data\")\n",
    "print(\"There are \",len(y_train.columns), \"columns in y_train data\")\n",
    "training_data.head()"
   ]
  },
  {
   "cell_type": "code",
   "execution_count": null,
   "metadata": {},
   "outputs": [],
   "source": []
  },
  {
   "cell_type": "markdown",
   "metadata": {},
   "source": [
    "### Import Test Data"
   ]
  },
  {
   "cell_type": "code",
   "execution_count": 3,
   "metadata": {},
   "outputs": [
    {
     "name": "stdout",
     "output_type": "stream",
     "text": [
      "\n",
      "Loading test data\n",
      "\n",
      "There are  6843 records in training data\n"
     ]
    }
   ],
   "source": [
    "test_data_path = r\"mle-project-challenge\\data\\peerLoanTest.csv\"\n",
    "\n",
    "print(\"\\nLoading test data\")\n",
    "test_data = pd.read_csv(test_data_path, engine='python', header=0)\n",
    "print(\"\\nThere are \", len(test_data), \"records in training data\")\n",
    "# Separate out X and y\n",
    "X_test = test_data.loc[:, test_data.columns != 'is_late']\n",
    "# y_test = test_data['is_late']\n",
    "y_test = test_data.iloc[:, -1:]"
   ]
  },
  {
   "cell_type": "markdown",
   "metadata": {},
   "source": [
    "## Combine(append) test data into training data"
   ]
  },
  {
   "cell_type": "code",
   "execution_count": 4,
   "metadata": {},
   "outputs": [],
   "source": [
    "combined_df = training_data.append(test_data, ignore_index=True)"
   ]
  },
  {
   "cell_type": "code",
   "execution_count": 5,
   "metadata": {},
   "outputs": [
    {
     "name": "stdout",
     "output_type": "stream",
     "text": [
      "Lenght of training data -  111068\n",
      "Lenght of test data -  6843\n",
      "Combined data should be - 117911 and lenght of combined data -  117911\n"
     ]
    }
   ],
   "source": [
    "print(\"Lenght of training data - \", len(training_data))\n",
    "print(\"Lenght of test data - \", len(test_data))\n",
    "print(\"Combined data should be -\", len(training_data) + len(test_data), \"and lenght of combined data - \", len(combined_df))\n",
    "# combined_df"
   ]
  },
  {
   "cell_type": "markdown",
   "metadata": {},
   "source": [
    "### Shuffle combined_df"
   ]
  },
  {
   "cell_type": "code",
   "execution_count": 7,
   "metadata": {},
   "outputs": [
    {
     "data": {
      "text/html": [
       "<div>\n",
       "<style scoped>\n",
       "    .dataframe tbody tr th:only-of-type {\n",
       "        vertical-align: middle;\n",
       "    }\n",
       "\n",
       "    .dataframe tbody tr th {\n",
       "        vertical-align: top;\n",
       "    }\n",
       "\n",
       "    .dataframe thead th {\n",
       "        text-align: right;\n",
       "    }\n",
       "</style>\n",
       "<table border=\"1\" class=\"dataframe\">\n",
       "  <thead>\n",
       "    <tr style=\"text-align: right;\">\n",
       "      <th></th>\n",
       "      <th>loan_amnt</th>\n",
       "      <th>int_rate</th>\n",
       "      <th>purpose</th>\n",
       "      <th>grade</th>\n",
       "      <th>annual_inc</th>\n",
       "      <th>revol_util</th>\n",
       "      <th>emp_length</th>\n",
       "      <th>dti</th>\n",
       "      <th>delinq_2yrs</th>\n",
       "      <th>home_ownership</th>\n",
       "      <th>is_late</th>\n",
       "    </tr>\n",
       "  </thead>\n",
       "  <tbody>\n",
       "    <tr>\n",
       "      <td>0</td>\n",
       "      <td>12000</td>\n",
       "      <td>0.2039</td>\n",
       "      <td>credit_card</td>\n",
       "      <td>D</td>\n",
       "      <td>42000.0</td>\n",
       "      <td>0.647</td>\n",
       "      <td>10+ years</td>\n",
       "      <td>14.46</td>\n",
       "      <td>0</td>\n",
       "      <td>RENT</td>\n",
       "      <td>0</td>\n",
       "    </tr>\n",
       "    <tr>\n",
       "      <td>1</td>\n",
       "      <td>29150</td>\n",
       "      <td>0.2039</td>\n",
       "      <td>home_improvement</td>\n",
       "      <td>D</td>\n",
       "      <td>51000.0</td>\n",
       "      <td>0.404</td>\n",
       "      <td>10+ years</td>\n",
       "      <td>20.82</td>\n",
       "      <td>0</td>\n",
       "      <td>MORTGAGE</td>\n",
       "      <td>0</td>\n",
       "    </tr>\n",
       "    <tr>\n",
       "      <td>2</td>\n",
       "      <td>8000</td>\n",
       "      <td>0.1306</td>\n",
       "      <td>other</td>\n",
       "      <td>C</td>\n",
       "      <td>73000.0</td>\n",
       "      <td>0.560</td>\n",
       "      <td>10+ years</td>\n",
       "      <td>33.27</td>\n",
       "      <td>0</td>\n",
       "      <td>MORTGAGE</td>\n",
       "      <td>0</td>\n",
       "    </tr>\n",
       "    <tr>\n",
       "      <td>3</td>\n",
       "      <td>21000</td>\n",
       "      <td>0.0746</td>\n",
       "      <td>credit_card</td>\n",
       "      <td>A</td>\n",
       "      <td>60000.0</td>\n",
       "      <td>0.395</td>\n",
       "      <td>NaN</td>\n",
       "      <td>22.42</td>\n",
       "      <td>0</td>\n",
       "      <td>OWN</td>\n",
       "      <td>0</td>\n",
       "    </tr>\n",
       "    <tr>\n",
       "      <td>4</td>\n",
       "      <td>13000</td>\n",
       "      <td>0.1747</td>\n",
       "      <td>debt_consolidation</td>\n",
       "      <td>D</td>\n",
       "      <td>27500.0</td>\n",
       "      <td>0.185</td>\n",
       "      <td>4 years</td>\n",
       "      <td>26.45</td>\n",
       "      <td>0</td>\n",
       "      <td>RENT</td>\n",
       "      <td>0</td>\n",
       "    </tr>\n",
       "  </tbody>\n",
       "</table>\n",
       "</div>"
      ],
      "text/plain": [
       "   loan_amnt  int_rate             purpose grade  annual_inc  revol_util  \\\n",
       "0      12000    0.2039         credit_card     D     42000.0       0.647   \n",
       "1      29150    0.2039    home_improvement     D     51000.0       0.404   \n",
       "2       8000    0.1306               other     C     73000.0       0.560   \n",
       "3      21000    0.0746         credit_card     A     60000.0       0.395   \n",
       "4      13000    0.1747  debt_consolidation     D     27500.0       0.185   \n",
       "\n",
       "  emp_length    dti  delinq_2yrs home_ownership  is_late  \n",
       "0  10+ years  14.46            0           RENT        0  \n",
       "1  10+ years  20.82            0       MORTGAGE        0  \n",
       "2  10+ years  33.27            0       MORTGAGE        0  \n",
       "3        NaN  22.42            0            OWN        0  \n",
       "4    4 years  26.45            0           RENT        0  "
      ]
     },
     "execution_count": 7,
     "metadata": {},
     "output_type": "execute_result"
    }
   ],
   "source": [
    "## Before shuffle\n",
    "combined_df.head()"
   ]
  },
  {
   "cell_type": "code",
   "execution_count": 6,
   "metadata": {},
   "outputs": [
    {
     "data": {
      "text/html": [
       "<div>\n",
       "<style scoped>\n",
       "    .dataframe tbody tr th:only-of-type {\n",
       "        vertical-align: middle;\n",
       "    }\n",
       "\n",
       "    .dataframe tbody tr th {\n",
       "        vertical-align: top;\n",
       "    }\n",
       "\n",
       "    .dataframe thead th {\n",
       "        text-align: right;\n",
       "    }\n",
       "</style>\n",
       "<table border=\"1\" class=\"dataframe\">\n",
       "  <thead>\n",
       "    <tr style=\"text-align: right;\">\n",
       "      <th></th>\n",
       "      <th>loan_amnt</th>\n",
       "      <th>int_rate</th>\n",
       "      <th>purpose</th>\n",
       "      <th>grade</th>\n",
       "      <th>annual_inc</th>\n",
       "      <th>revol_util</th>\n",
       "      <th>emp_length</th>\n",
       "      <th>dti</th>\n",
       "      <th>delinq_2yrs</th>\n",
       "      <th>home_ownership</th>\n",
       "      <th>is_late</th>\n",
       "    </tr>\n",
       "  </thead>\n",
       "  <tbody>\n",
       "    <tr>\n",
       "      <td>0</td>\n",
       "      <td>10000</td>\n",
       "      <td>0.1090</td>\n",
       "      <td>credit_card</td>\n",
       "      <td>B</td>\n",
       "      <td>55000.0</td>\n",
       "      <td>0.830</td>\n",
       "      <td>NaN</td>\n",
       "      <td>17.95</td>\n",
       "      <td>0</td>\n",
       "      <td>OWN</td>\n",
       "      <td>0</td>\n",
       "    </tr>\n",
       "    <tr>\n",
       "      <td>1</td>\n",
       "      <td>26000</td>\n",
       "      <td>0.1747</td>\n",
       "      <td>credit_card</td>\n",
       "      <td>D</td>\n",
       "      <td>64000.0</td>\n",
       "      <td>0.531</td>\n",
       "      <td>10+ years</td>\n",
       "      <td>16.24</td>\n",
       "      <td>0</td>\n",
       "      <td>MORTGAGE</td>\n",
       "      <td>0</td>\n",
       "    </tr>\n",
       "    <tr>\n",
       "      <td>2</td>\n",
       "      <td>12000</td>\n",
       "      <td>0.2677</td>\n",
       "      <td>debt_consolidation</td>\n",
       "      <td>E</td>\n",
       "      <td>62000.0</td>\n",
       "      <td>0.505</td>\n",
       "      <td>&lt; 1 year</td>\n",
       "      <td>6.97</td>\n",
       "      <td>0</td>\n",
       "      <td>MORTGAGE</td>\n",
       "      <td>0</td>\n",
       "    </tr>\n",
       "    <tr>\n",
       "      <td>3</td>\n",
       "      <td>20000</td>\n",
       "      <td>0.1646</td>\n",
       "      <td>debt_consolidation</td>\n",
       "      <td>C</td>\n",
       "      <td>88000.0</td>\n",
       "      <td>0.220</td>\n",
       "      <td>10+ years</td>\n",
       "      <td>16.46</td>\n",
       "      <td>0</td>\n",
       "      <td>RENT</td>\n",
       "      <td>0</td>\n",
       "    </tr>\n",
       "    <tr>\n",
       "      <td>4</td>\n",
       "      <td>20000</td>\n",
       "      <td>0.0796</td>\n",
       "      <td>credit_card</td>\n",
       "      <td>A</td>\n",
       "      <td>65000.0</td>\n",
       "      <td>0.280</td>\n",
       "      <td>2 years</td>\n",
       "      <td>32.39</td>\n",
       "      <td>0</td>\n",
       "      <td>RENT</td>\n",
       "      <td>0</td>\n",
       "    </tr>\n",
       "  </tbody>\n",
       "</table>\n",
       "</div>"
      ],
      "text/plain": [
       "   loan_amnt  int_rate             purpose grade  annual_inc  revol_util  \\\n",
       "0      10000    0.1090         credit_card     B     55000.0       0.830   \n",
       "1      26000    0.1747         credit_card     D     64000.0       0.531   \n",
       "2      12000    0.2677  debt_consolidation     E     62000.0       0.505   \n",
       "3      20000    0.1646  debt_consolidation     C     88000.0       0.220   \n",
       "4      20000    0.0796         credit_card     A     65000.0       0.280   \n",
       "\n",
       "  emp_length    dti  delinq_2yrs home_ownership  is_late  \n",
       "0        NaN  17.95            0            OWN        0  \n",
       "1  10+ years  16.24            0       MORTGAGE        0  \n",
       "2   < 1 year   6.97            0       MORTGAGE        0  \n",
       "3  10+ years  16.46            0           RENT        0  \n",
       "4    2 years  32.39            0           RENT        0  "
      ]
     },
     "execution_count": 6,
     "metadata": {},
     "output_type": "execute_result"
    }
   ],
   "source": [
    "## After shuffle (set random_state = 1 to get the same seed and create a new df)\n",
    "combined_df_shuffled = combined_df.sample(frac=1, random_state = 1).reset_index(drop=True)\n",
    "combined_df_shuffled.head()"
   ]
  },
  {
   "cell_type": "code",
   "execution_count": 9,
   "metadata": {},
   "outputs": [],
   "source": [
    "### Write combined_df_shuffled data as a CSV file into the same data folder\n",
    "# combined_df_shuffled.to_csv(r'mle-project-challenge\\data\\combined_data.csv', header=True,index=False)"
   ]
  },
  {
   "cell_type": "markdown",
   "metadata": {},
   "source": [
    "### Separate X, y and cretae Train Test Split (80:20)"
   ]
  },
  {
   "cell_type": "code",
   "execution_count": 7,
   "metadata": {},
   "outputs": [],
   "source": [
    "# Separate out X and y\n",
    "X = combined_df_shuffled.loc[:, combined_df_shuffled.columns != 'is_late']\n",
    "y = combined_df.iloc[:,-1:]  # output a df style in jupyter notebook with index location"
   ]
  },
  {
   "cell_type": "code",
   "execution_count": 8,
   "metadata": {},
   "outputs": [],
   "source": [
    "## From Sklearn train_test_split function\n",
    "X_train, X_test, y_train, y_test = train_test_split(X, y, test_size=0.20, random_state=1)"
   ]
  },
  {
   "cell_type": "code",
   "execution_count": 9,
   "metadata": {},
   "outputs": [
    {
     "data": {
      "text/plain": [
       "94328"
      ]
     },
     "execution_count": 9,
     "metadata": {},
     "output_type": "execute_result"
    }
   ],
   "source": [
    "len(X_train)"
   ]
  },
  {
   "cell_type": "markdown",
   "metadata": {},
   "source": [
    "##### Check outcome varibale normalization"
   ]
  },
  {
   "cell_type": "code",
   "execution_count": 10,
   "metadata": {},
   "outputs": [
    {
     "data": {
      "text/plain": [
       "0    0.978299\n",
       "1    0.021701\n",
       "Name: is_late, dtype: float64"
      ]
     },
     "execution_count": 10,
     "metadata": {},
     "output_type": "execute_result"
    }
   ],
   "source": [
    "y_train['is_late'].value_counts(normalize=True)"
   ]
  },
  {
   "cell_type": "code",
   "execution_count": 11,
   "metadata": {},
   "outputs": [
    {
     "data": {
      "text/plain": [
       "0    0.978459\n",
       "1    0.021541\n",
       "Name: is_late, dtype: float64"
      ]
     },
     "execution_count": 11,
     "metadata": {},
     "output_type": "execute_result"
    }
   ],
   "source": [
    "y_test['is_late'].value_counts(normalize=True)"
   ]
  },
  {
   "cell_type": "code",
   "execution_count": 15,
   "metadata": {},
   "outputs": [],
   "source": [
    "### Not too much of a difference from original dataset. This is because we have majority of them are 0's. "
   ]
  },
  {
   "cell_type": "markdown",
   "metadata": {},
   "source": [
    "### Data Presprocessing (borrow from what has been already done/given)\n",
    "###### We have mixed types, therefore, it has a nice pipeline to impute missing data and categorical transformers with onehot encoding"
   ]
  },
  {
   "cell_type": "code",
   "execution_count": 12,
   "metadata": {},
   "outputs": [],
   "source": [
    "# Assign numeric features from dataset and impute with median for missing data.\n",
    "numeric_features = ['loan_amnt', \n",
    "                    'int_rate', 'annual_inc', 'revol_util', \n",
    "                    'dti', 'delinq_2yrs'\n",
    "                   ]\n",
    "\n",
    "numeric_transformer = Pipeline(steps=[\n",
    "    ('imputer', SimpleImputer(strategy='median')),\n",
    "    ])\n",
    "# Assign values from dataset\n",
    "categorical_features = ['purpose','grade', 'emp_length', 'home_ownership']\n",
    "\n",
    "categorical_transformer = Pipeline(steps=[\n",
    "    ('imputer', SimpleImputer(strategy='constant', fill_value='missing')),\n",
    "    ('onehot', OneHotEncoder(handle_unknown='ignore'))\n",
    "    ])\n",
    "\n",
    "## Main pre-preprocess variable\n",
    "preprocess = ColumnTransformer(\n",
    "    transformers=[\n",
    "        ('num', numeric_transformer, numeric_features),\n",
    "        ('cat', categorical_transformer, categorical_features)\n",
    "        ]\n",
    "    )"
   ]
  },
  {
   "cell_type": "markdown",
   "metadata": {},
   "source": [
    "### Hyper Parameter Tuning"
   ]
  },
  {
   "cell_type": "code",
   "execution_count": 15,
   "metadata": {},
   "outputs": [
    {
     "name": "stdout",
     "output_type": "stream",
     "text": [
      "\n",
      "Training model ...\n"
     ]
    },
    {
     "data": {
      "text/plain": [
       "{'max_depth': 4, 'max_features': 'auto', 'n_estimators': 50}"
      ]
     },
     "execution_count": 15,
     "metadata": {},
     "output_type": "execute_result"
    }
   ],
   "source": [
    "### Hyper Parameter Optimizaition Using GridSearchCV\n",
    "## Create a model object\n",
    "## Create a parameter grid\n",
    "## Create pipleine and check best parameters\n",
    "random_forest_model = RandomForestClassifier(n_jobs=-1, oob_score = True)\n",
    "\n",
    "param_grid = { \n",
    "    'n_estimators': [50, 100, 150],\n",
    "    'max_features': ['auto', 'sqrt', 'log2'],\n",
    "    'max_depth' : [4,5,6]\n",
    "}\n",
    "\n",
    "CV_rfc  = GridSearchCV(estimator=random_forest_model, param_grid=param_grid, cv= 5) # 5 fold corss validation\n",
    "model = make_pipeline(preprocess, CV_rfc)\n",
    "\n",
    "\n",
    "print(\"\\nTraining model ...\")\n",
    "model.fit(X_train, y_train)\n",
    "\n",
    "model[1].best_params_"
   ]
  },
  {
   "cell_type": "code",
   "execution_count": 18,
   "metadata": {},
   "outputs": [],
   "source": [
    "## Test Accuracy of Model\n",
    "# print(\"Accuracy:\\n%s\" % accuracy_score(y_test, model.predict(X_test)))"
   ]
  },
  {
   "cell_type": "markdown",
   "metadata": {},
   "source": [
    "#### Fit best hpyer parameters"
   ]
  },
  {
   "cell_type": "code",
   "execution_count": 19,
   "metadata": {},
   "outputs": [],
   "source": [
    "## 50 n_estimators\n",
    "model = make_pipeline(preprocess, RandomForestClassifier( n_estimators = 50,max_depth = 4, random_state=42))"
   ]
  },
  {
   "cell_type": "code",
   "execution_count": 20,
   "metadata": {},
   "outputs": [
    {
     "name": "stdout",
     "output_type": "stream",
     "text": [
      "\n",
      "Training model ...\n",
      "\n",
      "---Time to train default model 3.7175166606903076 seconds ---\n"
     ]
    }
   ],
   "source": [
    "start_time = time.time()\n",
    "print(\"\\nTraining model ...\")\n",
    "model.fit(X_train, y_train)\n",
    "print(\"\\n---Time to train default model %s seconds ---\" % (time.time() - start_time))"
   ]
  },
  {
   "cell_type": "code",
   "execution_count": 21,
   "metadata": {},
   "outputs": [],
   "source": [
    "prob = model.predict_proba(X_test)\n",
    "pos_probs = prob[:,0]"
   ]
  },
  {
   "cell_type": "code",
   "execution_count": 22,
   "metadata": {},
   "outputs": [
    {
     "name": "stdout",
     "output_type": "stream",
     "text": [
      "AUC: 0.510\n"
     ]
    }
   ],
   "source": [
    "from sklearn.metrics import roc_curve, auc\n",
    "import sklearn.metrics as metrics\n",
    "from sklearn.metrics import roc_auc_score\n",
    "from matplotlib import pyplot\n",
    "auc = roc_auc_score(y_test, pos_probs)\n",
    "print('AUC: %.3f' % auc)"
   ]
  },
  {
   "cell_type": "code",
   "execution_count": 23,
   "metadata": {},
   "outputs": [
    {
     "data": {
      "image/png": "[encoded data removed]",
      "text/plain": [
       "<Figure size 432x288 with 1 Axes>"
      ]
     },
     "metadata": {
      "needs_background": "light"
     },
     "output_type": "display_data"
    }
   ],
   "source": [
    "# calculate roc curve\n",
    "fpr, tpr, thresholds = roc_curve(y_test, pos_probs)\n",
    "# plot \n",
    "pyplot.plot([0, 1], [0, 1], linestyle='--')\n",
    "# plot the roc curve for the model\n",
    "pyplot.plot(fpr, tpr, marker='.', label = 'ROC curve (area = %0.3f)' % auc)\n",
    "# plot x, y axis labels\n",
    "pyplot.xlabel(\"False Positive Rate\")\n",
    "pyplot.ylabel(\"True Positive Rate\")\n",
    "pyplot.legend(loc = 'lower right')\n",
    "pyplot.title(\"ROC Curve\")\n",
    "\n",
    "# pyplot.savefig(\"new_model_mle_challenge/img/roc_curve_imp.jpg\")\n",
    "# show the plot\n",
    "pyplot.show()"
   ]
  },
  {
   "cell_type": "code",
   "execution_count": 24,
   "metadata": {},
   "outputs": [
    {
     "name": "stdout",
     "output_type": "stream",
     "text": [
      "Accuracy:\n",
      "0.978459059492007\n"
     ]
    }
   ],
   "source": [
    "print(\"Accuracy:\\n%s\" % accuracy_score(y_test, model.predict(X_test)))"
   ]
  },
  {
   "cell_type": "code",
   "execution_count": 25,
   "metadata": {},
   "outputs": [],
   "source": [
    "## AUC score went higher from 0.380 to 0.51"
   ]
  },
  {
   "cell_type": "code",
   "execution_count": null,
   "metadata": {},
   "outputs": [],
   "source": []
  },
  {
   "cell_type": "markdown",
   "metadata": {},
   "source": [
    "### Test with Pay On Time"
   ]
  },
  {
   "cell_type": "code",
   "execution_count": 28,
   "metadata": {},
   "outputs": [
    {
     "name": "stdout",
     "output_type": "stream",
     "text": [
      "\n",
      "Predicting class probabilities for likely on-time payer:\n",
      "[[0.97830985 0.02169015]]\n"
     ]
    }
   ],
   "source": [
    "# Make a prediction for a likely on time payer\n",
    "payOnTimePrediction = {\n",
    "    'loan_amnt': [100],\n",
    "    'int_rate': [0.02039],\n",
    "    'purpose': ['credit_card'],\n",
    "    'grade': ['A'],\n",
    "    'annual_inc': [80000.00],\n",
    "    'revol_util': [0.05],\n",
    "    'emp_length': ['10+ years'],\n",
    "    'dti': [1.46],\n",
    "    'delinq_2yrs': [0],\n",
    "    'home_ownership': ['RENT']\n",
    "    }\n",
    "payOnTimePredictionDf = pd.DataFrame.from_dict(payOnTimePrediction)\n",
    "\n",
    "print(\"\\nPredicting class probabilities for likely on-time payer:\")\n",
    "print(model.predict_proba(payOnTimePredictionDf))"
   ]
  },
  {
   "cell_type": "markdown",
   "metadata": {},
   "source": [
    "### Test with Pay Late"
   ]
  },
  {
   "cell_type": "code",
   "execution_count": 29,
   "metadata": {},
   "outputs": [
    {
     "name": "stdout",
     "output_type": "stream",
     "text": [
      "\n",
      "Predicting class probabilities for a likely late payer:\n",
      "[[0.97245989 0.02754011]]\n"
     ]
    }
   ],
   "source": [
    "# Prediction for a likely late payer\n",
    "payLatePrediction = {\n",
    "    'loan_amnt': [10000],\n",
    "    'int_rate': [0.6],\n",
    "    'purpose': ['credit_card'],\n",
    "    'grade': ['D'],\n",
    "    'annual_inc': [20000.00],\n",
    "    'revol_util': [0.85],\n",
    "    'emp_length': ['1 year'],\n",
    "    'dti': [42.00],\n",
    "    'delinq_2yrs': [4],\n",
    "    'home_ownership': ['RENT']\n",
    "    }\n",
    "payLatePredictionDf = pd.DataFrame.from_dict(payLatePrediction)\n",
    "\n",
    "print(\"\\nPredicting class probabilities for a likely late payer:\")\n",
    "print(model.predict_proba(payLatePredictionDf))"
   ]
  },
  {
   "cell_type": "markdown",
   "metadata": {},
   "source": [
    "#### Checking Improvements with 100 estimators"
   ]
  },
  {
   "cell_type": "code",
   "execution_count": null,
   "metadata": {},
   "outputs": [],
   "source": [
    "#### Even though AUC went up higher with 50 n_estimaotrs, the model is tryong to get 1's, which is inverse in our case,\n",
    "## we needs a more balanced result. trying n_estimaotrs 100"
   ]
  },
  {
   "cell_type": "code",
   "execution_count": 31,
   "metadata": {},
   "outputs": [
    {
     "name": "stdout",
     "output_type": "stream",
     "text": [
      "\n",
      "Training model ...\n",
      "\n",
      "---Time to train default model 6.638957977294922 seconds ---\n"
     ]
    },
    {
     "data": {
      "image/png": "[encoded data removed]",
      "text/plain": [
       "<Figure size 432x288 with 1 Axes>"
      ]
     },
     "metadata": {
      "needs_background": "light"
     },
     "output_type": "display_data"
    }
   ],
   "source": [
    "## Randomly trying hyper paramter 100 n_estimators\n",
    "model = make_pipeline(preprocess, RandomForestClassifier( n_estimators = 100,max_depth = 4, random_state=42))\n",
    "\n",
    "start_time = time.time()\n",
    "print(\"\\nTraining model ...\")\n",
    "model.fit(X_train, y_train)\n",
    "print(\"\\n---Time to train default model %s seconds ---\" % (time.time() - start_time))\n",
    "\n",
    "prob = model.predict_proba(X_test)\n",
    "pos_probs = prob[:,0]\n",
    "\n",
    "# calculate roc curve\n",
    "fpr, tpr, thresholds = roc_curve(y_test, pos_probs)\n",
    "# plot \n",
    "pyplot.plot([0, 1], [0, 1], linestyle='--')\n",
    "# plot the roc curve for the model\n",
    "pyplot.plot(fpr, tpr, marker='.', label = 'ROC curve (area = %0.3f)' % auc)\n",
    "# plot x, y axis labels\n",
    "pyplot.xlabel(\"False Positive Rate\")\n",
    "pyplot.ylabel(\"True Positive Rate\")\n",
    "pyplot.legend(loc = 'lower right')\n",
    "pyplot.title(\"ROC Curve\")\n",
    "\n",
    "# pyplot.savefig(\"new_model_mle_challenge/img/roc_curve_imp.jpg\")\n",
    "# show the plot\n",
    "pyplot.show()"
   ]
  },
  {
   "cell_type": "code",
   "execution_count": null,
   "metadata": {},
   "outputs": [],
   "source": []
  },
  {
   "cell_type": "markdown",
   "metadata": {},
   "source": [
    "# Extra - Try Different Models with Cross Validation"
   ]
  },
  {
   "cell_type": "markdown",
   "metadata": {},
   "source": [
    "### Create a Pipeline and Fit XGBoost Model"
   ]
  },
  {
   "cell_type": "code",
   "execution_count": 35,
   "metadata": {},
   "outputs": [],
   "source": [
    "model = make_pipeline(preprocess, XGBClassifier())"
   ]
  },
  {
   "cell_type": "markdown",
   "metadata": {},
   "source": [
    "### Predict With XGBoost Model"
   ]
  },
  {
   "cell_type": "code",
   "execution_count": 39,
   "metadata": {
    "scrolled": true
   },
   "outputs": [
    {
     "name": "stdout",
     "output_type": "stream",
     "text": [
      "\n",
      "Training model ...\n",
      "\n",
      "---Time for training 11.792896509170532 seconds ---\n"
     ]
    }
   ],
   "source": [
    "import time\n",
    "start_time = time.time()\n",
    "print(\"\\nTraining model ...\")\n",
    "model.fit(X_train, y_train)\n",
    "print(\"\\n---Time for training %s seconds ---\" % (time.time() - start_time))"
   ]
  },
  {
   "cell_type": "code",
   "execution_count": 40,
   "metadata": {},
   "outputs": [
    {
     "name": "stdout",
     "output_type": "stream",
     "text": [
      "Accuracy:\n",
      "0.978459059492007\n"
     ]
    }
   ],
   "source": [
    "print(\"Accuracy:\\n%s\" % accuracy_score(y_test, model.predict(X_test)))"
   ]
  },
  {
   "cell_type": "markdown",
   "metadata": {},
   "source": [
    "### Check accuracy score with K-Fold Validation and See if that improve's model score. Setting K =5\n",
    "* reference- https://machinelearningmastery.com/evaluate-gradient-boosting-models-xgboost-python/"
   ]
  },
  {
   "cell_type": "code",
   "execution_count": 64,
   "metadata": {},
   "outputs": [],
   "source": [
    "## create a pipeline\n",
    "model_with_k_fold = make_pipeline(preprocess, XGBClassifier())"
   ]
  },
  {
   "cell_type": "code",
   "execution_count": 77,
   "metadata": {},
   "outputs": [],
   "source": [
    "## Test with 5 splits\n",
    "k_fold = KFold(n_splits=5, random_state=42)"
   ]
  },
  {
   "cell_type": "code",
   "execution_count": 78,
   "metadata": {
    "scrolled": true
   },
   "outputs": [
    {
     "name": "stdout",
     "output_type": "stream",
     "text": [
      "Accuracy: 97.83% \n",
      "\n",
      "---Time 5 fold validation 61.40383768081665 seconds ---\n"
     ]
    }
   ],
   "source": [
    "start_time = time.time()\n",
    "results = cross_val_score(model_with_k_fold, X, y, cv=k_fold)\n",
    "print(\"Accuracy: %.2f%% \" % (results.mean()*100))\n",
    "print(\"\\n---Time 5 fold validation %s seconds ---\" % (time.time() - start_time))"
   ]
  },
  {
   "cell_type": "markdown",
   "metadata": {},
   "source": [
    "### Test Model Scores in Each Iteration of the Model"
   ]
  },
  {
   "cell_type": "code",
   "execution_count": 18,
   "metadata": {},
   "outputs": [],
   "source": [
    "# Here k_fold is 5, since we used 5 last time in same variable\n",
    "scores = []\n",
    "for train_index, test_index in k_fold.split(X):\n",
    "    ## Print Training and testing indexes of each K-fold\n",
    "#     print(len(train_index), len(test_index))\n",
    "    \n",
    "    X_train, X_test, y_train, y_test = X.iloc[train_index], X.iloc[test_index], y.iloc[train_index], y.iloc[test_index]\n",
    "    scores.append(model_with_k_fold.score(X_test, y_test))"
   ]
  },
  {
   "cell_type": "code",
   "execution_count": 19,
   "metadata": {
    "scrolled": true
   },
   "outputs": [
    {
     "name": "stdout",
     "output_type": "stream",
     "text": [
      "avgerage score 0.9783310832113997 \n",
      "All Scores are below: \n",
      " [0.9819785438663444, 0.9776100415571198, 0.975023322873378, 0.9789670087354763, 0.9780764990246799]\n"
     ]
    }
   ],
   "source": [
    "print(\"avgerage score\", sum(scores)/len(scores),'\\nAll Scores are below:', '\\n',scores)"
   ]
  },
  {
   "cell_type": "markdown",
   "metadata": {},
   "source": [
    "### Fit model"
   ]
  },
  {
   "cell_type": "code",
   "execution_count": 79,
   "metadata": {
    "scrolled": true
   },
   "outputs": [
    {
     "data": {
      "text/plain": [
       "Pipeline(memory=None,\n",
       "         steps=[('columntransformer',\n",
       "                 ColumnTransformer(n_jobs=None, remainder='drop',\n",
       "                                   sparse_threshold=0.3,\n",
       "                                   transformer_weights=None,\n",
       "                                   transformers=[('num',\n",
       "                                                  Pipeline(memory=None,\n",
       "                                                           steps=[('imputer',\n",
       "                                                                   SimpleImputer(add_indicator=False,\n",
       "                                                                                 copy=True,\n",
       "                                                                                 fill_value=None,\n",
       "                                                                                 missing_values=nan,\n",
       "                                                                                 strategy='median',\n",
       "                                                                                 verbose=0))],\n",
       "                                                           verbose=False),\n",
       "                                                  ['loan_amnt', 'int_rate'...\n",
       "                 XGBClassifier(base_score=0.9, booster='gbtree',\n",
       "                               colsample_bylevel=1, colsample_bynode=1,\n",
       "                               colsample_bytree=1, gamma=0, learning_rate=0.1,\n",
       "                               max_delta_step=0, max_depth=3,\n",
       "                               min_child_weight=1, missing=None,\n",
       "                               n_estimators=100, n_jobs=1, nthread=None,\n",
       "                               objective='binary:logistic', random_state=0,\n",
       "                               reg_alpha=0, reg_lambda=1, scale_pos_weight=1,\n",
       "                               seed=None, silent=None, subsample=1,\n",
       "                               verbosity=1))],\n",
       "         verbose=False)"
      ]
     },
     "execution_count": 79,
     "metadata": {},
     "output_type": "execute_result"
    }
   ],
   "source": [
    "model_with_k_fold.fit(X_train, y_train)"
   ]
  },
  {
   "cell_type": "markdown",
   "metadata": {},
   "source": [
    "#### Accuracy itseld is a good measure, since data is not well balanced, checking ROC-AUC curve will be a good measure"
   ]
  },
  {
   "cell_type": "code",
   "execution_count": 80,
   "metadata": {},
   "outputs": [],
   "source": [
    "prob = model_with_k_fold.predict_proba(X_test)"
   ]
  },
  {
   "cell_type": "code",
   "execution_count": 81,
   "metadata": {},
   "outputs": [],
   "source": [
    "# Since 0 is our positive outcome we'll take all the positive outcomes - Approved Loan\n",
    "pos_probs = prob[:,0]"
   ]
  },
  {
   "cell_type": "code",
   "execution_count": 93,
   "metadata": {},
   "outputs": [
    {
     "name": "stdout",
     "output_type": "stream",
     "text": [
      "AUC: 0.505\n"
     ]
    }
   ],
   "source": [
    "from sklearn.metrics import roc_curve, auc\n",
    "import sklearn.metrics as metrics\n",
    "from sklearn.metrics import roc_auc_score\n",
    "from matplotlib import pyplot\n",
    "auc = roc_auc_score(y_test, pos_probs)\n",
    "print('AUC: %.3f' % auc)"
   ]
  },
  {
   "cell_type": "code",
   "execution_count": 99,
   "metadata": {},
   "outputs": [
    {
     "data": {
      "image/png": "[encoded data removed]",
      "text/plain": [
       "<Figure size 432x288 with 1 Axes>"
      ]
     },
     "metadata": {
      "needs_background": "light"
     },
     "output_type": "display_data"
    }
   ],
   "source": [
    "# calculate roc curve\n",
    "fpr, tpr, thresholds = roc_curve(y_test, pos_probs)\n",
    "# plot \n",
    "pyplot.plot([0, 1], [0, 1], linestyle='--')\n",
    "# plot the roc curve for the model\n",
    "pyplot.plot(fpr, tpr, marker='.', label = 'ROC curve (area = %0.3f)' % auc)\n",
    "# plot x, y axis labels\n",
    "pyplot.xlabel(\"False Positive Rate\")\n",
    "pyplot.ylabel(\"True Positive Rate\")\n",
    "pyplot.legend(loc = 'lower right')\n",
    "pyplot.title(\"ROC Curve\")\n",
    "# show the plot\n",
    "pyplot.show()"
   ]
  },
  {
   "cell_type": "code",
   "execution_count": null,
   "metadata": {},
   "outputs": [],
   "source": [
    "## Plot auc is 0.5, wheree 50% of the time the classifier will rank a randomly chosen postive example higher than randomly \n",
    "# chosen negative example.\n",
    "# This is the reason the model almost always gives postive outcome (0)\n",
    "# For this demo, I am going to leave it 0.5 threshold due to time contraints. "
   ]
  },
  {
   "cell_type": "code",
   "execution_count": null,
   "metadata": {},
   "outputs": [],
   "source": []
  },
  {
   "cell_type": "markdown",
   "metadata": {},
   "source": [
    "### Test Model With Sample Data\n",
    "#####  On time Payer"
   ]
  },
  {
   "cell_type": "code",
   "execution_count": 84,
   "metadata": {},
   "outputs": [
    {
     "name": "stdout",
     "output_type": "stream",
     "text": [
      "\n",
      "Predicting class probabilities for likely on-time payer:\n",
      "[1. 0.]\n"
     ]
    }
   ],
   "source": [
    "# Make a prediction for a likely on time payer\n",
    "payOnTimePrediction = {\n",
    "    'loan_amnt': [100],\n",
    "    'int_rate': [0.02039],\n",
    "    'purpose': ['credit_card'],\n",
    "    'grade': ['A'],\n",
    "    'annual_inc': [80000.00],\n",
    "    'revol_util': [0.05],\n",
    "    'emp_length': ['10+ years'],\n",
    "    'dti': [1.46],\n",
    "    'delinq_2yrs': [0],\n",
    "    'home_ownership': ['RENT']\n",
    "    }\n",
    "payOnTimePredictionDf = pd.DataFrame.from_dict(payOnTimePrediction)\n",
    "print(\"\\nPredicting class probabilities for likely on-time payer:\")\n",
    "# Save probablities and round them to nearest integer\n",
    "probablities = model_with_k_fold.predict_proba(payOnTimePredictionDf)\n",
    "\n",
    "for val in probablities:\n",
    "    print(val.round())"
   ]
  },
  {
   "cell_type": "code",
   "execution_count": 85,
   "metadata": {},
   "outputs": [
    {
     "data": {
      "text/plain": [
       "array([[0.9876152 , 0.01238476]], dtype=float32)"
      ]
     },
     "execution_count": 85,
     "metadata": {},
     "output_type": "execute_result"
    }
   ],
   "source": [
    "probablities"
   ]
  },
  {
   "cell_type": "code",
   "execution_count": null,
   "metadata": {},
   "outputs": [],
   "source": [
    "# Based on Data Dictionary, since 0 is loan is given when first value of confusion matrix is close to 1, then laon can be approved"
   ]
  },
  {
   "cell_type": "markdown",
   "metadata": {},
   "source": [
    "###### Late Payer"
   ]
  },
  {
   "cell_type": "code",
   "execution_count": 86,
   "metadata": {},
   "outputs": [
    {
     "name": "stdout",
     "output_type": "stream",
     "text": [
      "\n",
      "Predicting class probabilities for likely late payer:\n",
      "[1. 0.]\n"
     ]
    }
   ],
   "source": [
    "payLatePrediction = {\n",
    "    'loan_amnt': [10000],\n",
    "    'int_rate': [0.6],\n",
    "    'purpose': ['credit_card'],\n",
    "    'grade': ['D'],\n",
    "    'annual_inc': [20000.00],\n",
    "    'revol_util': [0.85],\n",
    "    'emp_length': ['1 year'],\n",
    "    'dti': [42.00],\n",
    "    'delinq_2yrs': [4],\n",
    "    'home_ownership': ['RENT']\n",
    "    }\n",
    "payLatePredictionDf = pd.DataFrame.from_dict(payLatePrediction)\n",
    "\n",
    "print(\"\\nPredicting class probabilities for likely late payer:\")\n",
    "# Save probablities and round them to nearest integer\n",
    "probablities_late = model_with_k_fold.predict_proba(payLatePredictionDf)\n",
    "\n",
    "for val in probablities_late:\n",
    "    print(val.round())"
   ]
  },
  {
   "cell_type": "code",
   "execution_count": 87,
   "metadata": {},
   "outputs": [
    {
     "data": {
      "text/plain": [
       "array([[0.9753183 , 0.02468167]], dtype=float32)"
      ]
     },
     "execution_count": 87,
     "metadata": {},
     "output_type": "execute_result"
    }
   ],
   "source": [
    "probablities_late"
   ]
  },
  {
   "cell_type": "markdown",
   "metadata": {},
   "source": [
    "### Trying a KNN model with K-Fold Validation"
   ]
  },
  {
   "cell_type": "code",
   "execution_count": 26,
   "metadata": {},
   "outputs": [],
   "source": [
    "model_with_k_fold_knn = make_pipeline(preprocess,  KNeighborsClassifier(n_neighbors=5))"
   ]
  },
  {
   "cell_type": "code",
   "execution_count": 28,
   "metadata": {},
   "outputs": [
    {
     "name": "stdout",
     "output_type": "stream",
     "text": [
      "Accuracy: 97.81% \n"
     ]
    }
   ],
   "source": [
    "results = cross_val_score(model_with_k_fold_knn, X, y, cv=k_fold)\n",
    "print(\"Accuracy: %.2f%% \" % (results.mean()*100))"
   ]
  },
  {
   "cell_type": "code",
   "execution_count": null,
   "metadata": {},
   "outputs": [],
   "source": [
    "### KNN is memory intesnive algorithm."
   ]
  },
  {
   "cell_type": "code",
   "execution_count": 29,
   "metadata": {},
   "outputs": [
    {
     "data": {
      "text/plain": [
       "array([0.98155451, 0.97735561, 0.97489611, 0.97896701, 0.97790688])"
      ]
     },
     "execution_count": 29,
     "metadata": {},
     "output_type": "execute_result"
    }
   ],
   "source": [
    "results"
   ]
  },
  {
   "cell_type": "markdown",
   "metadata": {},
   "source": [
    "##### Fit model / Train model"
   ]
  },
  {
   "cell_type": "code",
   "execution_count": 31,
   "metadata": {
    "scrolled": true
   },
   "outputs": [
    {
     "name": "stdout",
     "output_type": "stream",
     "text": [
      "Training KNN model\n"
     ]
    },
    {
     "data": {
      "text/plain": [
       "Pipeline(memory=None,\n",
       "         steps=[('columntransformer',\n",
       "                 ColumnTransformer(n_jobs=None, remainder='drop',\n",
       "                                   sparse_threshold=0.3,\n",
       "                                   transformer_weights=None,\n",
       "                                   transformers=[('num',\n",
       "                                                  Pipeline(memory=None,\n",
       "                                                           steps=[('imputer',\n",
       "                                                                   SimpleImputer(add_indicator=False,\n",
       "                                                                                 copy=True,\n",
       "                                                                                 fill_value=None,\n",
       "                                                                                 missing_values=nan,\n",
       "                                                                                 strategy='median',\n",
       "                                                                                 verbose=0))],\n",
       "                                                           verbose=False),\n",
       "                                                  ['loan_amnt', 'int_rate'...\n",
       "                                                                                 drop=None,\n",
       "                                                                                 dtype=<class 'numpy.float64'>,\n",
       "                                                                                 handle_unknown='ignore',\n",
       "                                                                                 n_values=None,\n",
       "                                                                                 sparse=True))],\n",
       "                                                           verbose=False),\n",
       "                                                  ['purpose', 'grade',\n",
       "                                                   'emp_length',\n",
       "                                                   'home_ownership'])],\n",
       "                                   verbose=False)),\n",
       "                ('kneighborsclassifier',\n",
       "                 KNeighborsClassifier(algorithm='auto', leaf_size=30,\n",
       "                                      metric='minkowski', metric_params=None,\n",
       "                                      n_jobs=None, n_neighbors=5, p=2,\n",
       "                                      weights='uniform'))],\n",
       "         verbose=False)"
      ]
     },
     "execution_count": 31,
     "metadata": {},
     "output_type": "execute_result"
    }
   ],
   "source": [
    "print(\"Training KNN model\")\n",
    "model_with_k_fold_knn.fit(X_train, y_train)"
   ]
  },
  {
   "cell_type": "code",
   "execution_count": 39,
   "metadata": {},
   "outputs": [
    {
     "name": "stdout",
     "output_type": "stream",
     "text": [
      "Accuracy:\n",
      "0.9779068781273853\n"
     ]
    }
   ],
   "source": [
    "# model_with_k_fold_knn.fit(X_train, y_train)\n",
    "print(\"Accuracy:\\n%s\" % accuracy_score(y_test, model_with_k_fold_knn.predict(X_test)))"
   ]
  },
  {
   "cell_type": "code",
   "execution_count": null,
   "metadata": {},
   "outputs": [],
   "source": []
  },
  {
   "cell_type": "markdown",
   "metadata": {},
   "source": [
    "### A person more likely to pay on time"
   ]
  },
  {
   "cell_type": "code",
   "execution_count": 38,
   "metadata": {},
   "outputs": [
    {
     "name": "stdout",
     "output_type": "stream",
     "text": [
      "[[0.8 0.2]]\n"
     ]
    }
   ],
   "source": [
    "## On Time Pay\n",
    "print(model_with_k_fold_knn.predict_proba(payOnTimePredictionDf))"
   ]
  },
  {
   "cell_type": "markdown",
   "metadata": {},
   "source": [
    "### A person more like to pay late"
   ]
  },
  {
   "cell_type": "code",
   "execution_count": 36,
   "metadata": {},
   "outputs": [
    {
     "name": "stdout",
     "output_type": "stream",
     "text": [
      "[[1. 0.]]\n"
     ]
    }
   ],
   "source": [
    "## Late Pay\n",
    "print(model_with_k_fold_knn.predict_proba(payLatePredictionDf))"
   ]
  },
  {
   "cell_type": "code",
   "execution_count": 28,
   "metadata": {},
   "outputs": [],
   "source": []
  }
 ],
 "metadata": {
  "kernelspec": {
   "display_name": "Python 3",
   "language": "python",
   "name": "python3"
  },
  "language_info": {
   "codemirror_mode": {
    "name": "ipython",
    "version": 3
   },
   "file_extension": ".py",
   "mimetype": "text/x-python",
   "name": "python",
   "nbconvert_exporter": "python",
   "pygments_lexer": "ipython3",
   "version": "3.7.3"
  }
 },
 "nbformat": 4,
 "nbformat_minor": 2
}
