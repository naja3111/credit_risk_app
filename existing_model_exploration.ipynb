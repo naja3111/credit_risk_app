{
 "cells": [
  {
   "cell_type": "code",
   "execution_count": 1,
   "metadata": {},
   "outputs": [],
   "source": [
    "# Import Libraries\n",
    "import numpy as np\n",
    "import pandas as pd\n",
    "from sklearn.ensemble import RandomForestClassifier\n",
    "\n",
    "# Preprocessing and Pipeline libraries\n",
    "import sklearn\n",
    "from sklearn.compose import ColumnTransformer\n",
    "from sklearn.impute import SimpleImputer\n",
    "from sklearn.pipeline import Pipeline, make_pipeline\n",
    "from sklearn.preprocessing import OneHotEncoder\n",
    "import pickle\n",
    "\n",
    "# Import time\n",
    "import time"
   ]
  },
  {
   "cell_type": "markdown",
   "metadata": {},
   "source": [
    "### Training Data"
   ]
  },
  {
   "cell_type": "code",
   "execution_count": 2,
   "metadata": {},
   "outputs": [
    {
     "name": "stdout",
     "output_type": "stream",
     "text": [
      "\n",
      "Loading training data...\n",
      "\n",
      "There are  111068 records in training data\n"
     ]
    }
   ],
   "source": [
    "print(\"\\nLoading training data...\")\n",
    "# load training data\n",
    "training_data = pd.read_csv(\"mle-project-challenge/data/peerLoanTraining.csv\", engine='python', header=0)\n",
    "print(\"\\nThere are \", len(training_data), \"records in training data\")\n",
    "# # Separate out X and y\n",
    "X_train = training_data.loc[:, training_data.columns != 'is_late']\n",
    "# y_train = training_data.loc[:,training_data.columns == 'is_late']\n",
    "y_train = training_data.iloc[:,-1:]"
   ]
  },
  {
   "cell_type": "code",
   "execution_count": 3,
   "metadata": {},
   "outputs": [
    {
     "name": "stdout",
     "output_type": "stream",
     "text": [
      "There are  10 columns in x_train data\n",
      "There are  1 columns in y_train data\n"
     ]
    },
    {
     "data": {
      "text/html": [
       "<div>\n",
       "<style scoped>\n",
       "    .dataframe tbody tr th:only-of-type {\n",
       "        vertical-align: middle;\n",
       "    }\n",
       "\n",
       "    .dataframe tbody tr th {\n",
       "        vertical-align: top;\n",
       "    }\n",
       "\n",
       "    .dataframe thead th {\n",
       "        text-align: right;\n",
       "    }\n",
       "</style>\n",
       "<table border=\"1\" class=\"dataframe\">\n",
       "  <thead>\n",
       "    <tr style=\"text-align: right;\">\n",
       "      <th></th>\n",
       "      <th>loan_amnt</th>\n",
       "      <th>int_rate</th>\n",
       "      <th>purpose</th>\n",
       "      <th>grade</th>\n",
       "      <th>annual_inc</th>\n",
       "      <th>revol_util</th>\n",
       "      <th>emp_length</th>\n",
       "      <th>dti</th>\n",
       "      <th>delinq_2yrs</th>\n",
       "      <th>home_ownership</th>\n",
       "      <th>is_late</th>\n",
       "    </tr>\n",
       "  </thead>\n",
       "  <tbody>\n",
       "    <tr>\n",
       "      <td>0</td>\n",
       "      <td>12000</td>\n",
       "      <td>0.2039</td>\n",
       "      <td>credit_card</td>\n",
       "      <td>D</td>\n",
       "      <td>42000.0</td>\n",
       "      <td>0.647</td>\n",
       "      <td>10+ years</td>\n",
       "      <td>14.46</td>\n",
       "      <td>0</td>\n",
       "      <td>RENT</td>\n",
       "      <td>0</td>\n",
       "    </tr>\n",
       "    <tr>\n",
       "      <td>1</td>\n",
       "      <td>29150</td>\n",
       "      <td>0.2039</td>\n",
       "      <td>home_improvement</td>\n",
       "      <td>D</td>\n",
       "      <td>51000.0</td>\n",
       "      <td>0.404</td>\n",
       "      <td>10+ years</td>\n",
       "      <td>20.82</td>\n",
       "      <td>0</td>\n",
       "      <td>MORTGAGE</td>\n",
       "      <td>0</td>\n",
       "    </tr>\n",
       "    <tr>\n",
       "      <td>2</td>\n",
       "      <td>8000</td>\n",
       "      <td>0.1306</td>\n",
       "      <td>other</td>\n",
       "      <td>C</td>\n",
       "      <td>73000.0</td>\n",
       "      <td>0.560</td>\n",
       "      <td>10+ years</td>\n",
       "      <td>33.27</td>\n",
       "      <td>0</td>\n",
       "      <td>MORTGAGE</td>\n",
       "      <td>0</td>\n",
       "    </tr>\n",
       "    <tr>\n",
       "      <td>3</td>\n",
       "      <td>21000</td>\n",
       "      <td>0.0746</td>\n",
       "      <td>credit_card</td>\n",
       "      <td>A</td>\n",
       "      <td>60000.0</td>\n",
       "      <td>0.395</td>\n",
       "      <td>NaN</td>\n",
       "      <td>22.42</td>\n",
       "      <td>0</td>\n",
       "      <td>OWN</td>\n",
       "      <td>0</td>\n",
       "    </tr>\n",
       "    <tr>\n",
       "      <td>4</td>\n",
       "      <td>13000</td>\n",
       "      <td>0.1747</td>\n",
       "      <td>debt_consolidation</td>\n",
       "      <td>D</td>\n",
       "      <td>27500.0</td>\n",
       "      <td>0.185</td>\n",
       "      <td>4 years</td>\n",
       "      <td>26.45</td>\n",
       "      <td>0</td>\n",
       "      <td>RENT</td>\n",
       "      <td>0</td>\n",
       "    </tr>\n",
       "  </tbody>\n",
       "</table>\n",
       "</div>"
      ],
      "text/plain": [
       "   loan_amnt  int_rate             purpose grade  annual_inc  revol_util  \\\n",
       "0      12000    0.2039         credit_card     D     42000.0       0.647   \n",
       "1      29150    0.2039    home_improvement     D     51000.0       0.404   \n",
       "2       8000    0.1306               other     C     73000.0       0.560   \n",
       "3      21000    0.0746         credit_card     A     60000.0       0.395   \n",
       "4      13000    0.1747  debt_consolidation     D     27500.0       0.185   \n",
       "\n",
       "  emp_length    dti  delinq_2yrs home_ownership  is_late  \n",
       "0  10+ years  14.46            0           RENT        0  \n",
       "1  10+ years  20.82            0       MORTGAGE        0  \n",
       "2  10+ years  33.27            0       MORTGAGE        0  \n",
       "3        NaN  22.42            0            OWN        0  \n",
       "4    4 years  26.45            0           RENT        0  "
      ]
     },
     "execution_count": 3,
     "metadata": {},
     "output_type": "execute_result"
    }
   ],
   "source": [
    "print(\"There are \",len(X_train.columns), \"columns in x_train data\")\n",
    "print(\"There are \",len(y_train.columns), \"columns in y_train data\")\n",
    "training_data.head()"
   ]
  },
  {
   "cell_type": "markdown",
   "metadata": {},
   "source": [
    "### Load test data"
   ]
  },
  {
   "cell_type": "code",
   "execution_count": 4,
   "metadata": {},
   "outputs": [
    {
     "name": "stdout",
     "output_type": "stream",
     "text": [
      "\n",
      "Loading test data\n",
      "\n",
      "There are  6843 records in training data\n"
     ]
    }
   ],
   "source": [
    "print(\"\\nLoading test data\")\n",
    "test_data = pd.read_csv(\"mle-project-challenge/data/peerLoanTest.csv\", engine='python', header=0)\n",
    "print(\"\\nThere are \", len(test_data), \"records in training data\")\n",
    "# Separate out X and y\n",
    "X_test = test_data.loc[:, test_data.columns != 'is_late']\n",
    "# y_test = test_data['is_late']\n",
    "y_test = test_data.iloc[:, -1:]"
   ]
  },
  {
   "cell_type": "markdown",
   "metadata": {},
   "source": [
    "### Data Pre-Processing"
   ]
  },
  {
   "cell_type": "code",
   "execution_count": 6,
   "metadata": {},
   "outputs": [],
   "source": [
    "numeric_features = ['loan_amnt', \n",
    "                    'int_rate', 'annual_inc', 'revol_util', \n",
    "                    'dti', 'delinq_2yrs'\n",
    "                   ]\n",
    "\n",
    "numeric_transformer = Pipeline(steps=[\n",
    "    ('imputer', SimpleImputer(strategy='median')),\n",
    "    ])\n",
    "\n",
    "categorical_features = ['purpose','grade', 'emp_length', 'home_ownership']\n",
    "\n",
    "categorical_transformer = Pipeline(steps=[\n",
    "    ('imputer', SimpleImputer(strategy='constant', fill_value='missing')),\n",
    "    ('onehot', OneHotEncoder(handle_unknown='ignore'))\n",
    "    ])\n",
    "\n",
    "preprocess = ColumnTransformer(\n",
    "    transformers=[\n",
    "        ('num', numeric_transformer, numeric_features),\n",
    "        ('cat', categorical_transformer, categorical_features)\n",
    "        ]\n",
    "    )"
   ]
  },
  {
   "cell_type": "code",
   "execution_count": 8,
   "metadata": {
    "scrolled": true
   },
   "outputs": [],
   "source": [
    "# print(numeric_features)\n",
    "# print('\\n',numeric_transformer)\n",
    "# print('\\n',preprocess)"
   ]
  },
  {
   "cell_type": "markdown",
   "metadata": {},
   "source": [
    "### Quick Exploratory Analysis"
   ]
  },
  {
   "cell_type": "markdown",
   "metadata": {},
   "source": [
    "#### Check Null Values in Training Data"
   ]
  },
  {
   "cell_type": "code",
   "execution_count": 9,
   "metadata": {},
   "outputs": [
    {
     "data": {
      "text/plain": [
       "Index(['revol_util', 'emp_length'], dtype='object')"
      ]
     },
     "execution_count": 9,
     "metadata": {},
     "output_type": "execute_result"
    }
   ],
   "source": [
    "# training_data.isnull().values.any()\n",
    "training_data.loc[:, training_data.isnull().any()].columns"
   ]
  },
  {
   "cell_type": "code",
   "execution_count": 10,
   "metadata": {},
   "outputs": [
    {
     "data": {
      "text/plain": [
       "revol_util     117\n",
       "emp_length    7747\n",
       "dtype: int64"
      ]
     },
     "execution_count": 10,
     "metadata": {},
     "output_type": "execute_result"
    }
   ],
   "source": [
    "# Check with count\n",
    "training_data.loc[:, list(training_data.loc[:, training_data.isnull().any()].columns)].isnull().sum()"
   ]
  },
  {
   "cell_type": "code",
   "execution_count": 11,
   "metadata": {},
   "outputs": [],
   "source": [
    "# set(training_data['revol_util'])"
   ]
  },
  {
   "cell_type": "code",
   "execution_count": 12,
   "metadata": {},
   "outputs": [
    {
     "data": {
      "text/plain": [
       "10+ years    37389\n",
       "2 years      10577\n",
       "3 years       9325\n",
       "< 1 year      7615\n",
       "1 year        7488\n",
       "4 years       7445\n",
       "5 years       7048\n",
       "6 years       5282\n",
       "7 years       4280\n",
       "8 years       3753\n",
       "9 years       3119\n",
       "Name: emp_length, dtype: int64"
      ]
     },
     "execution_count": 12,
     "metadata": {},
     "output_type": "execute_result"
    }
   ],
   "source": [
    "training_data['emp_length'].value_counts()"
   ]
  },
  {
   "cell_type": "markdown",
   "metadata": {},
   "source": [
    "#### Look at missing values visually "
   ]
  },
  {
   "cell_type": "code",
   "execution_count": 14,
   "metadata": {},
   "outputs": [
    {
     "data": {
      "text/plain": [
       "<matplotlib.axes._subplots.AxesSubplot at 0x26e62b1fdd8>"
      ]
     },
     "execution_count": 14,
     "metadata": {},
     "output_type": "execute_result"
    },
    {
     "data": {
      "image/png": "[encoded data removed]",
      "text/plain": [
       "<Figure size 1800x720 with 2 Axes>"
      ]
     },
     "metadata": {
      "needs_background": "light"
     },
     "output_type": "display_data"
    }
   ],
   "source": [
    "import missingno\n",
    "missingdata_df = training_data.columns[training_data.isnull().any()].tolist()\n",
    "missingno.matrix(training_data[missingdata_df])"
   ]
  },
  {
   "cell_type": "markdown",
   "metadata": {},
   "source": [
    "##### Tes Data"
   ]
  },
  {
   "cell_type": "code",
   "execution_count": 19,
   "metadata": {},
   "outputs": [
    {
     "data": {
      "text/plain": [
       "<matplotlib.axes._subplots.AxesSubplot at 0x26e65a5cef0>"
      ]
     },
     "execution_count": 19,
     "metadata": {},
     "output_type": "execute_result"
    },
    {
     "data": {
      "image/png": "[encoded data removed]",
      "text/plain": [
       "<Figure size 1800x720 with 2 Axes>"
      ]
     },
     "metadata": {
      "needs_background": "light"
     },
     "output_type": "display_data"
    }
   ],
   "source": [
    "missingdata_df_test = test_data.columns[test_data.isnull().any()].tolist()\n",
    "missingno.matrix(test_data[missingdata_df_test])"
   ]
  },
  {
   "cell_type": "code",
   "execution_count": null,
   "metadata": {},
   "outputs": [],
   "source": []
  },
  {
   "cell_type": "markdown",
   "metadata": {},
   "source": [
    "#### Check outcome varibale"
   ]
  },
  {
   "cell_type": "code",
   "execution_count": 15,
   "metadata": {},
   "outputs": [
    {
     "data": {
      "text/plain": [
       "0    108608\n",
       "1      2460\n",
       "Name: is_late, dtype: int64"
      ]
     },
     "execution_count": 15,
     "metadata": {},
     "output_type": "execute_result"
    }
   ],
   "source": [
    "training_data['is_late'].value_counts()"
   ]
  },
  {
   "cell_type": "code",
   "execution_count": 16,
   "metadata": {},
   "outputs": [
    {
     "data": {
      "text/plain": [
       "<matplotlib.axes._subplots.AxesSubplot at 0x26e61c408d0>"
      ]
     },
     "execution_count": 16,
     "metadata": {},
     "output_type": "execute_result"
    },
    {
     "data": {
      "image/png": "[encoded data removed]",
      "text/plain": [
       "<Figure size 432x288 with 1 Axes>"
      ]
     },
     "metadata": {
      "needs_background": "light"
     },
     "output_type": "display_data"
    }
   ],
   "source": [
    "training_data['is_late'].plot(kind='hist')"
   ]
  },
  {
   "cell_type": "code",
   "execution_count": null,
   "metadata": {},
   "outputs": [],
   "source": []
  },
  {
   "cell_type": "code",
   "execution_count": 17,
   "metadata": {},
   "outputs": [
    {
     "data": {
      "text/plain": [
       "0    6748\n",
       "1      95\n",
       "Name: is_late, dtype: int64"
      ]
     },
     "execution_count": 17,
     "metadata": {},
     "output_type": "execute_result"
    }
   ],
   "source": [
    "test_data['is_late'].value_counts()"
   ]
  },
  {
   "cell_type": "code",
   "execution_count": 18,
   "metadata": {},
   "outputs": [
    {
     "data": {
      "text/plain": [
       "<matplotlib.axes._subplots.AxesSubplot at 0x26e61c72828>"
      ]
     },
     "execution_count": 18,
     "metadata": {},
     "output_type": "execute_result"
    },
    {
     "data": {
      "image/png": "[encoded data removed]",
      "text/plain": [
       "<Figure size 432x288 with 1 Axes>"
      ]
     },
     "metadata": {
      "needs_background": "light"
     },
     "output_type": "display_data"
    }
   ],
   "source": [
    "test_data['is_late'].plot(kind='hist')"
   ]
  },
  {
   "cell_type": "markdown",
   "metadata": {},
   "source": [
    "#####  Check Percentage/Normalized"
   ]
  },
  {
   "cell_type": "code",
   "execution_count": 61,
   "metadata": {},
   "outputs": [
    {
     "data": {
      "text/plain": [
       "0    0.977851\n",
       "1    0.022149\n",
       "Name: is_late, dtype: float64"
      ]
     },
     "execution_count": 61,
     "metadata": {},
     "output_type": "execute_result"
    }
   ],
   "source": [
    "training_data['is_late'].value_counts(normalize=True)"
   ]
  },
  {
   "cell_type": "code",
   "execution_count": 60,
   "metadata": {},
   "outputs": [
    {
     "data": {
      "text/plain": [
       "0    0.986117\n",
       "1    0.013883\n",
       "Name: is_late, dtype: float64"
      ]
     },
     "execution_count": 60,
     "metadata": {},
     "output_type": "execute_result"
    }
   ],
   "source": [
    "test_data['is_late'].value_counts(normalize=True) "
   ]
  },
  {
   "cell_type": "code",
   "execution_count": null,
   "metadata": {},
   "outputs": [],
   "source": [
    "### Seems that data is imbalanced here. Combining data and shuffle it randomly would be one solution to get the data ditributed balanced"
   ]
  },
  {
   "cell_type": "markdown",
   "metadata": {},
   "source": [
    "### Combine preprocessing with classifier"
   ]
  },
  {
   "cell_type": "code",
   "execution_count": 22,
   "metadata": {},
   "outputs": [],
   "source": [
    "latePaymentsModel = make_pipeline(preprocess, RandomForestClassifier(random_state=42))"
   ]
  },
  {
   "cell_type": "markdown",
   "metadata": {},
   "source": [
    "### Fit the pipeline to the training data (fit is for both the preprocessing and the classifier)"
   ]
  },
  {
   "cell_type": "code",
   "execution_count": 23,
   "metadata": {},
   "outputs": [
    {
     "name": "stdout",
     "output_type": "stream",
     "text": [
      "\n",
      "Training model ...\n"
     ]
    },
    {
     "name": "stderr",
     "output_type": "stream",
     "text": [
      "C:\\Users\\NajaMohamed\\Anaconda3\\lib\\site-packages\\sklearn\\ensemble\\forest.py:245: FutureWarning: The default value of n_estimators will change from 10 in version 0.20 to 100 in 0.22.\n",
      "  \"10 in version 0.20 to 100 in 0.22.\", FutureWarning)\n",
      "C:\\Users\\NajaMohamed\\Anaconda3\\lib\\site-packages\\sklearn\\pipeline.py:356: DataConversionWarning: A column-vector y was passed when a 1d array was expected. Please change the shape of y to (n_samples,), for example using ravel().\n",
      "  self._final_estimator.fit(Xt, y, **fit_params)\n"
     ]
    },
    {
     "name": "stdout",
     "output_type": "stream",
     "text": [
      "\n",
      "---Time to train default model 11.071707248687744 seconds ---\n"
     ]
    }
   ],
   "source": [
    "start_time = time.time()\n",
    "print(\"\\nTraining model ...\")\n",
    "latePaymentsModel.fit(X_train, y_train)\n",
    "print(\"\\n---Time to train default model %s seconds ---\" % (time.time() - start_time))"
   ]
  },
  {
   "cell_type": "markdown",
   "metadata": {},
   "source": [
    "### Check Model Performance"
   ]
  },
  {
   "cell_type": "code",
   "execution_count": 24,
   "metadata": {},
   "outputs": [],
   "source": [
    "prob = latePaymentsModel.predict_proba(X_test)\n",
    "pos_probs = prob[:,0]"
   ]
  },
  {
   "cell_type": "code",
   "execution_count": 25,
   "metadata": {},
   "outputs": [
    {
     "name": "stdout",
     "output_type": "stream",
     "text": [
      "AUC: 0.380\n"
     ]
    }
   ],
   "source": [
    "from sklearn.metrics import roc_curve, auc\n",
    "import sklearn.metrics as metrics\n",
    "from sklearn.metrics import roc_auc_score\n",
    "from matplotlib import pyplot\n",
    "auc = roc_auc_score(y_test, pos_probs)\n",
    "print('AUC: %.3f' % auc)"
   ]
  },
  {
   "cell_type": "code",
   "execution_count": 30,
   "metadata": {},
   "outputs": [
    {
     "data": {
      "image/png": "[encoded data removed]",
      "text/plain": [
       "<Figure size 432x288 with 1 Axes>"
      ]
     },
     "metadata": {
      "needs_background": "light"
     },
     "output_type": "display_data"
    }
   ],
   "source": [
    "# calculate roc curve\n",
    "fpr, tpr, thresholds = roc_curve(y_test, pos_probs)\n",
    "# plot \n",
    "pyplot.plot([0, 1], [0, 1], linestyle='--')\n",
    "# plot the roc curve for the model\n",
    "pyplot.plot(fpr, tpr, marker='.', label = 'ROC curve (area = %0.3f)' % auc)\n",
    "# plot x, y axis labels\n",
    "pyplot.xlabel(\"False Positive Rate\")\n",
    "pyplot.ylabel(\"True Positive Rate\")\n",
    "pyplot.legend(loc = 'lower right')\n",
    "pyplot.title(\"ROC Curve\")\n",
    "\n",
    "# pyplot.savefig(\"new_model_mle_challenge/img/roc_curve_orig.jpg\")\n",
    "# show the plot\n",
    "pyplot.show()"
   ]
  },
  {
   "cell_type": "code",
   "execution_count": null,
   "metadata": {},
   "outputs": [],
   "source": []
  },
  {
   "cell_type": "markdown",
   "metadata": {},
   "source": [
    "### Save the trained model as a pickle file"
   ]
  },
  {
   "cell_type": "code",
   "execution_count": 94,
   "metadata": {},
   "outputs": [
    {
     "name": "stdout",
     "output_type": "stream",
     "text": [
      "\n",
      "Saving model ...\n"
     ]
    }
   ],
   "source": [
    "print(\"\\nSaving model ...\")\n",
    "file = open('mle-project-challenge//models/latePaymentsModel.pkl', 'wb')\n",
    "pickle.dump(latePaymentsModel, file)\n",
    "file.close()"
   ]
  },
  {
   "cell_type": "code",
   "execution_count": null,
   "metadata": {},
   "outputs": [],
   "source": []
  },
  {
   "cell_type": "markdown",
   "metadata": {},
   "source": [
    "### Load the pickled model"
   ]
  },
  {
   "cell_type": "code",
   "execution_count": 95,
   "metadata": {},
   "outputs": [
    {
     "name": "stdout",
     "output_type": "stream",
     "text": [
      "\n",
      "Loading saved model to make example predictions...\n"
     ]
    }
   ],
   "source": [
    "print(\"\\nLoading saved model to make example predictions...\")\n",
    "pickledModel = pickle.load(open('mle-project-challenge//models/latePaymentsModel.pkl','rb'))"
   ]
  },
  {
   "cell_type": "markdown",
   "metadata": {},
   "source": [
    "### Test Prediction on Static Data - Pay On Time"
   ]
  },
  {
   "cell_type": "code",
   "execution_count": 96,
   "metadata": {},
   "outputs": [
    {
     "name": "stdout",
     "output_type": "stream",
     "text": [
      "\n",
      "Predicting class probabilities for likely on-time payer:\n",
      "[[1. 0.]]\n"
     ]
    }
   ],
   "source": [
    "# Make a prediction for a likely on time payer\n",
    "payOnTimePrediction = {\n",
    "    'loan_amnt': [100],\n",
    "    'int_rate': [0.02039],\n",
    "    'purpose': ['credit_card'],\n",
    "    'grade': ['A'],\n",
    "    'annual_inc': [80000.00],\n",
    "    'revol_util': [0.05],\n",
    "    'emp_length': ['10+ years'],\n",
    "    'dti': [1.46],\n",
    "    'delinq_2yrs': [0],\n",
    "    'home_ownership': ['RENT']\n",
    "    }\n",
    "payOnTimePredictionDf = pd.DataFrame.from_dict(payOnTimePrediction)\n",
    "\n",
    "print(\"\\nPredicting class probabilities for likely on-time payer:\")\n",
    "print(pickledModel.predict_proba(payOnTimePredictionDf))"
   ]
  },
  {
   "cell_type": "code",
   "execution_count": 97,
   "metadata": {},
   "outputs": [],
   "source": [
    "good_pred = pickledModel.predict_proba(payOnTimePredictionDf)"
   ]
  },
  {
   "cell_type": "code",
   "execution_count": 98,
   "metadata": {},
   "outputs": [
    {
     "name": "stdout",
     "output_type": "stream",
     "text": [
      "No Risks Associated with the Profile and credit risk is 0.0\n"
     ]
    }
   ],
   "source": [
    "if good_pred[0][0] >= 0.9:\n",
    "    risk = \"No Risks Associated with the Profile and credit risk is {}\".format(good_pred[0][1])\n",
    "elif good_pred[0][0] < 0.9:\n",
    "    risk = \"Risks Associated with the profile and credit risk is {}\".format(good_pred[0][1])\n",
    "print(risk)"
   ]
  },
  {
   "cell_type": "markdown",
   "metadata": {},
   "source": [
    "### Test Prediction on Late Pay"
   ]
  },
  {
   "cell_type": "code",
   "execution_count": 99,
   "metadata": {},
   "outputs": [
    {
     "name": "stdout",
     "output_type": "stream",
     "text": [
      "\n",
      "Predicting class probabilities for a likely late payer:\n",
      "[[0.7 0.3]]\n"
     ]
    }
   ],
   "source": [
    "# Prediction for a likely late payer\n",
    "payLatePrediction = {\n",
    "    'loan_amnt': [10000],\n",
    "    'int_rate': [0.6],\n",
    "    'purpose': ['credit_card'],\n",
    "    'grade': ['D'],\n",
    "    'annual_inc': [20000.00],\n",
    "    'revol_util': [0.85],\n",
    "    'emp_length': ['1 year'],\n",
    "    'dti': [42.00],\n",
    "    'delinq_2yrs': [4],\n",
    "    'home_ownership': ['RENT']\n",
    "    }\n",
    "payLatePredictionDf = pd.DataFrame.from_dict(payLatePrediction)\n",
    "\n",
    "print(\"\\nPredicting class probabilities for a likely late payer:\")\n",
    "print(pickledModel.predict_proba(payLatePredictionDf))"
   ]
  },
  {
   "cell_type": "code",
   "execution_count": 104,
   "metadata": {},
   "outputs": [
    {
     "name": "stdout",
     "output_type": "stream",
     "text": [
      "Risks Associated with the profile\n"
     ]
    }
   ],
   "source": [
    "bad_pred = pickledModel.predict_proba(payLatePredictionDf)\n",
    "if bad_pred[0][0] >= 0.9:\n",
    "    risk = \"No Risks Associated with the Profile and credit risk is {}\".format(bad_pred[0][1])\n",
    "elif bad_pred[0][0] < 0.9:\n",
    "    risk = \"Risks Associated with the profile\"\n",
    "print(risk)"
   ]
  },
  {
   "cell_type": "code",
   "execution_count": 101,
   "metadata": {},
   "outputs": [
    {
     "data": {
      "text/html": [
       "<div>\n",
       "<style scoped>\n",
       "    .dataframe tbody tr th:only-of-type {\n",
       "        vertical-align: middle;\n",
       "    }\n",
       "\n",
       "    .dataframe tbody tr th {\n",
       "        vertical-align: top;\n",
       "    }\n",
       "\n",
       "    .dataframe thead th {\n",
       "        text-align: right;\n",
       "    }\n",
       "</style>\n",
       "<table border=\"1\" class=\"dataframe\">\n",
       "  <thead>\n",
       "    <tr style=\"text-align: right;\">\n",
       "      <th></th>\n",
       "      <th>loan_amnt</th>\n",
       "      <th>int_rate</th>\n",
       "      <th>purpose</th>\n",
       "      <th>grade</th>\n",
       "      <th>annual_inc</th>\n",
       "      <th>revol_util</th>\n",
       "      <th>emp_length</th>\n",
       "      <th>dti</th>\n",
       "      <th>delinq_2yrs</th>\n",
       "      <th>home_ownership</th>\n",
       "    </tr>\n",
       "  </thead>\n",
       "  <tbody>\n",
       "    <tr>\n",
       "      <td>0</td>\n",
       "      <td>10000</td>\n",
       "      <td>0.6</td>\n",
       "      <td>credit_card</td>\n",
       "      <td>D</td>\n",
       "      <td>20000.0</td>\n",
       "      <td>0.85</td>\n",
       "      <td>1 year</td>\n",
       "      <td>42.0</td>\n",
       "      <td>4</td>\n",
       "      <td>RENT</td>\n",
       "    </tr>\n",
       "  </tbody>\n",
       "</table>\n",
       "</div>"
      ],
      "text/plain": [
       "   loan_amnt  int_rate      purpose grade  annual_inc  revol_util emp_length  \\\n",
       "0      10000       0.6  credit_card     D     20000.0        0.85     1 year   \n",
       "\n",
       "    dti  delinq_2yrs home_ownership  \n",
       "0  42.0            4           RENT  "
      ]
     },
     "execution_count": 101,
     "metadata": {},
     "output_type": "execute_result"
    }
   ],
   "source": [
    "payLatePredictionDf"
   ]
  },
  {
   "cell_type": "markdown",
   "metadata": {},
   "source": [
    "### Predict class probabilities for a set of records using the test set -List of Values"
   ]
  },
  {
   "cell_type": "code",
   "execution_count": 49,
   "metadata": {},
   "outputs": [
    {
     "name": "stdout",
     "output_type": "stream",
     "text": [
      "\n",
      "Predicting class probabilities for the test data set:\n",
      "[[1. 0.]\n",
      " [1. 0.]\n",
      " [1. 0.]\n",
      " ...\n",
      " [1. 0.]\n",
      " [1. 0.]\n",
      " [1. 0.]]\n"
     ]
    }
   ],
   "source": [
    "print(\"\\nPredicting class probabilities for the test data set:\")\n",
    "print(pickledModel.predict_proba(X_test))\n",
    "all_probs = pickledModel.predict_proba(X_test)"
   ]
  },
  {
   "cell_type": "markdown",
   "metadata": {},
   "source": [
    "### Check Model Accuracy With Test Data"
   ]
  },
  {
   "cell_type": "code",
   "execution_count": 42,
   "metadata": {},
   "outputs": [
    {
     "name": "stdout",
     "output_type": "stream",
     "text": [
      "Accuracy:\n",
      "0.9861172000584539\n"
     ]
    }
   ],
   "source": [
    "from sklearn.metrics import accuracy_score\n",
    "print(\"Accuracy:\\n%s\" % accuracy_score(y_test, pickledModel.predict(X_test)))"
   ]
  }
 ],
 "metadata": {
  "kernelspec": {
   "display_name": "Python 3",
   "language": "python",
   "name": "python3"
  },
  "language_info": {
   "codemirror_mode": {
    "name": "ipython",
    "version": 3
   },
   "file_extension": ".py",
   "mimetype": "text/x-python",
   "name": "python",
   "nbconvert_exporter": "python",
   "pygments_lexer": "ipython3",
   "version": "3.7.3"
  }
 },
 "nbformat": 4,
 "nbformat_minor": 2
}
